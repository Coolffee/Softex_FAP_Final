{
  "nbformat": 4,
  "nbformat_minor": 0,
  "metadata": {
    "colab": {
      "provenance": []
    },
    "kernelspec": {
      "name": "python3",
      "display_name": "Python 3"
    },
    "language_info": {
      "name": "python"
    }
  },
  "cells": [
    {
      "cell_type": "code",
      "execution_count": null,
      "metadata": {
        "id": "6-rr_U2dYsTJ"
      },
      "outputs": [],
      "source": [
        "from random import randint\n",
        "\n",
        "print(\"Jogo da advinhação: Tente adivinha um número entre 1 e 100.\")\n",
        "print(\"Para cancelar o jogo, digite 'DELETE'\")\n",
        "nc = randint(1,100)\n",
        "tentativas = 1\n",
        "\n",
        "\n",
        "while True:\n",
        "    usuario = input(\"Digite seu numero: \")\n",
        "    if usuario == \"DELETE\":\n",
        "        print(\"O jogo foi cancelado!\")\n",
        "        break\n",
        "    try:\n",
        "        usuario = int(usuario)\n",
        "    except:\n",
        "        print(\"Você não digitou um numero, digite um numero entre 1 e 100\")\n",
        "        continue\n",
        "\n",
        "    if usuario < 1 or usuario > 100:\n",
        "        print(\"O numero que você digitou é invalido selecione entre 1 e 50\")\n",
        "        continue\n",
        "    else:\n",
        "        if usuario == nc:\n",
        "            print(f\"Parabens você conseguiu após {tentativas} tentativas!\")\n",
        "            break\n",
        "        elif usuario < nc:\n",
        "            print(\"Errado, o número é maior, Tente novamente:\")\n",
        "            tentativas += 1\n",
        "        elif usuario > nc:\n",
        "            print(\"Errado, o número é menor, Tente novamente:\")\n",
        "            tentativas += 1\n",
        "\n"
      ]
    }
  ]
}