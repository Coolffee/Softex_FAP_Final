{
  "nbformat": 4,
  "nbformat_minor": 0,
  "metadata": {
    "colab": {
      "provenance": []
    },
    "kernelspec": {
      "name": "python3",
      "display_name": "Python 3"
    },
    "language_info": {
      "name": "python"
    }
  },
  "cells": [
    {
      "cell_type": "markdown",
      "source": [
        "Lista: 1, 3, 5, 7, 9, 11, 13, 15"
      ],
      "metadata": {
        "id": "h5XLCKu2I1_M"
      }
    },
    {
      "cell_type": "code",
      "source": [
        "# @title Atividade 1:\n",
        "\n",
        "print(\"Boas-vindas, se deseja saber a categoria do nadador, ensira a idade. Digite END para terminar o programa.\")\n",
        "i = True\n",
        "while i == True:\n",
        "\n",
        " idade = int(input(\" Idade: \"))\n",
        " if idade == \"END\":\n",
        "  break\n",
        "\n",
        " elif idade >= 5 and idade <= 7:\n",
        "   print(\"Infantil A\")\n",
        " elif idade >= 8 and idade <= 11:\n",
        "   print(\"Infantil B\")\n",
        " elif idade >= 12 and idade <= 13:\n",
        "   print(\"Juvenil A\")\n",
        " elif idade >= 14 and idade <= 17:\n",
        "   print(\"Juvenil B\")\n",
        " elif idade >= 18:\n",
        "   print(\"Adultos\")"
      ],
      "metadata": {
        "id": "EbIYepSoKoWz"
      },
      "execution_count": null,
      "outputs": []
    },
    {
      "cell_type": "code",
      "source": [
        "# @title Atividade 3:\n",
        "# i = perguntas que a resposta foi sim.\n",
        "\n",
        "i = 0\n",
        "\n",
        "def resolution(a):\n",
        "    global i\n",
        "    if a == 'Y' or a == 'y':\n",
        "        i += 1\n",
        "    elif a == 'N' or a == 'n':\n",
        "        i += 0\n",
        "\n",
        "def veredito(i):\n",
        "  if i == 0 or i == 1:\n",
        "   print(\"Inocente!\")\n",
        "  elif i == 2 or i == 3:\n",
        "   print(\"Suspeito!\")\n",
        "  elif i == 4:\n",
        "   print(\"Cúmplice!\")\n",
        "  elif i == 5:\n",
        "   print(\"Assassino!\")\n",
        "\n",
        "\n",
        "print(\"Bem vindo à delegacia, saiba que esta conversa está sendo gravada. Poderia fazer algumas perguntas? (Responda com Y (Sim) ou N (Não))\")\n",
        "\n",
        "perguntas = [\n",
        "    \"Telefonou para a vítima? \",\n",
        "    \"Esteve no local do crime? \",\n",
        "    \"Mora perto da vítima? \",\n",
        "    \"Devia para a vítima? \",\n",
        "    \"Já trabalhou com a vítima? \"\n",
        "]\n",
        "\n",
        "for pergunta in perguntas:\n",
        "    while True:\n",
        "        a = input(pergunta)\n",
        "        if a in ['Y', 'y', 'N', 'n']:\n",
        "            resolution(a)\n",
        "            break\n",
        "        else:\n",
        "            print(\"Resposta inválida. Por favor, responda com Y (Sim) ou N (Não).\")\n",
        "\n",
        "print(\"Eu declaro você como: \")\n",
        "veredito(i)\n"
      ],
      "metadata": {
        "id": "QlmJxOpYMxaN"
      },
      "execution_count": null,
      "outputs": []
    },
    {
      "cell_type": "code",
      "source": [
        "# @title Atividade 5:\n",
        "\n",
        "def gerar_intervalo(inicio, fim):\n",
        "    if inicio > fim:\n",
        "        inicio, fim = fim, inicio\n",
        "    return list(range(inicio, fim + 1))\n",
        "\n",
        "numero1 = int(input(\"Primeiro número: \"))\n",
        "numero2 = int(input(\"segundo número:  \"))\n",
        "\n",
        "# Gera e imprime os números no intervalo\n",
        "intervalo = gerar_intervalo(numero1, numero2)\n",
        "print(\"Os números inteiros no intervalo são:\", intervalo)\n",
        "\n"
      ],
      "metadata": {
        "id": "pqbjHj4rbHy9"
      },
      "execution_count": null,
      "outputs": []
    },
    {
      "cell_type": "code",
      "source": [
        "# @title Atividade 7:\n",
        "\n",
        "# Contador de Intervalos: Faça um programa que leia uma quantidade\n",
        "# indeterminada de números positivos e conte quantos deles estão nos seguintes\n",
        "# intervalos: [0-25], [26-50], [51-75] e [76-100]. A entrada de dados deve terminar\n",
        "# quando for lido um número negativo.\n",
        "\n",
        "print(\"Olá, coloque quantos números positivos você quiser para fazer o cálculo e um número negativo para parar e ter o resultado.\")\n",
        "\n",
        "# Inicializando contadores para cada intervalo\n",
        "count_0_25 = 0\n",
        "count_26_50 = 0\n",
        "count_51_75 = 0\n",
        "count_76_100 = 0\n",
        "\n",
        "# Lendo números até que um número negativo seja inserido\n",
        "while True:\n",
        "    a = int(input(\"Número teste: \"))\n",
        "    if a < 0:\n",
        "        break\n",
        "\n",
        "    if 0 <= a <= 25:\n",
        "        count_0_25 += 1\n",
        "    elif 26 <= a <= 50:\n",
        "        count_26_50 += 1\n",
        "    elif 51 <= a <= 75:\n",
        "        count_51_75 += 1\n",
        "    elif 76 <= a <= 100:\n",
        "        count_76_100 += 1\n",
        "\n",
        "# Exibindo os resultados\n",
        "print(f\"Tem {count_0_25} números entre 0 e 25\")\n",
        "print(f\"Tem {count_26_50} números entre 26 e 50\")\n",
        "print(f\"Tem {count_51_75} números entre 51 e 75\")\n",
        "print(f\"Tem {count_76_100} números entre 76 e 100\")\n",
        "\n"
      ],
      "metadata": {
        "id": "UuMdLzF6enKZ",
        "colab": {
          "base_uri": "https://localhost:8080/"
        },
        "outputId": "fc83f625-5155-4988-de77-a97d01eb03d2"
      },
      "execution_count": 2,
      "outputs": [
        {
          "output_type": "stream",
          "name": "stdout",
          "text": [
            "Olá, coloque quantos números positivos você quiser para fazer o cálculo e um número negativo para parar e ter o resultado.\n",
            "Número teste: 1\n",
            "Número teste: 2\n",
            "Número teste: 26\n",
            "Número teste: 27\n",
            "Número teste: 51\n",
            "Número teste: 52\n",
            "Número teste: 76\n",
            "Número teste: 77\n",
            "Número teste: -1\n",
            "Tem 2 números entre 0 e 25\n",
            "Tem 2 números entre 26 e 50\n",
            "Tem 2 números entre 51 e 75\n",
            "Tem 2 números entre 76 e 100\n"
          ]
        }
      ]
    },
    {
      "cell_type": "code",
      "source": [
        "# @title Atividade 9:\n",
        "\n",
        "\n",
        "# Intercalador de Listas: Crie uma função que receba duas listas de 10 elementos\n",
        "# cada e gere uma terceira lista de 20 elementos, cujos valores sejam compostos\n",
        "# pelos elementos intercalados das duas outras listas.\n",
        "\n",
        "\n",
        "def junt_listas(lista1, lista2):\n",
        "    if len(lista1) != 10 or len(lista2) != 10:\n",
        "        print(\"Ambas as listas devem conter 10 elementos!!!\")\n",
        "\n",
        "    lista_conj = []\n",
        "    for i in range(10):\n",
        "        lista_conj.append(lista1[i])\n",
        "        lista_conj.append(lista2[i])\n",
        "    return lista_conj\n",
        "\n",
        "# Lista de teste\n",
        "lista1 = [1, 3, 5, 7, 9, 11, 13, 15, 17, 19]\n",
        "lista2 = [2, 4, 6, 8, 10, 12, 14, 16, 18, 20]\n",
        "\n",
        "lista_conj = junt_listas(lista1, lista2)\n",
        "print(lista_conj)\n",
        "\n",
        "\n",
        "\n",
        "# lista de teste (com erro)\n",
        "\n",
        "# lista1 = [1, 3, 5, 7, 9, 11, 13, 15, 17]\n",
        "# lista2 = [2, 4, 6, 8, 10, 12, 14, 16, 18, 20]\n",
        "\n",
        "# lista_conj = junt_listas(lista1, lista2)\n",
        "# print(lista_conj)"
      ],
      "metadata": {
        "id": "tOuu3nR7g9MS",
        "colab": {
          "base_uri": "https://localhost:8080/"
        },
        "outputId": "a4f53b2c-8b5d-4611-9644-196837739c86"
      },
      "execution_count": 22,
      "outputs": [
        {
          "output_type": "stream",
          "name": "stdout",
          "text": [
            "[1, 2, 3, 4, 5, 6, 7, 8, 9, 10, 11, 12, 13, 14, 15, 16, 17, 18, 19, 20]\n"
          ]
        }
      ]
    },
    {
      "cell_type": "code",
      "source": [
        "# @title Atividade 11:\n",
        "\n",
        "# Implemente um programa que conte o número de ocorrências de cada palavra\n",
        "# em uma frase, ignorando maiúsculas/minúsculas e pontuação.\n",
        "\n",
        "\n",
        "import string\n",
        "\n",
        "def contar_palavras(frase):\n",
        "    frase = frase.lower().translate(str.maketrans('', '', string.punctuation))\n",
        "    palavras = frase.split()\n",
        "\n",
        "    contagem = {}\n",
        "    for palavra in palavras:\n",
        "        if palavra in contagem:\n",
        "            contagem[palavra] += 1\n",
        "        else:\n",
        "            contagem[palavra] = 1\n",
        "\n",
        "    return contagem\n",
        "\n",
        "def perg_frase():\n",
        "  frase = input(\"Digite a frase: \")\n",
        "  contagem_palavras = contar_palavras(frase)\n",
        "  print(contagem_palavras)\n",
        "\n",
        "perg_frase()\n",
        "\n",
        "# Olá meu amigo, como você está? Olá meu senhor, como vai o dia? Olá mundo, que Deus te abençoe.\n"
      ],
      "metadata": {
        "id": "W9NRyqwWhHbv",
        "colab": {
          "base_uri": "https://localhost:8080/"
        },
        "outputId": "95b4ecb1-3a75-4f2c-8a63-0e2692793116"
      },
      "execution_count": 25,
      "outputs": [
        {
          "output_type": "stream",
          "name": "stdout",
          "text": [
            "Digite a frase: Olá meu amigo, como você está? Olá meu senhor, como vai o dia? Olá mundo que Deus te abençoe.\n",
            "{'olá': 3, 'meu': 2, 'amigo': 1, 'como': 2, 'você': 1, 'está': 1, 'senhor': 1, 'vai': 1, 'o': 1, 'dia': 1, 'mundo': 1, 'que': 1, 'deus': 1, 'te': 1, 'abençoe': 1}\n"
          ]
        }
      ]
    },
    {
      "cell_type": "code",
      "source": [
        "# @title Atividade 13: (à fazer)------------------------\n",
        "\n",
        "# Implemente uma função que receba uma string contendo números e operações\n",
        "# matemáticas básicas (+, -, *, /) e retorne o resultado da expressão.\n",
        "\n"
      ],
      "metadata": {
        "id": "8drmxMuiQeXY"
      },
      "execution_count": null,
      "outputs": []
    },
    {
      "cell_type": "code",
      "source": [
        "# @title Atividade 15:\n",
        "\n",
        "# Escreva um programa que leia um arquivo de texto e conte o número de linhas, palavras e caracteres.\n",
        "\n",
        "def cont(arquivo):\n",
        "    try:\n",
        "        with open(arquivo, 'r', encoding='utf-8') as arquivo:\n",
        "            num_linhas = 0\n",
        "            num_palavras = 0\n",
        "            num_caracteres = 0\n",
        "\n",
        "            for linha in arquivo:\n",
        "                num_linhas += 1\n",
        "                palavras = linha.split()\n",
        "                num_palavras += len(palavras)\n",
        "                num_caracteres += len(linha)\n",
        "\n",
        "        return num_linhas, num_palavras, num_caracteres\n",
        "    except FileNotFoundError:\n",
        "        print(f\"O arquivo {arquivo} não foi encontrado.\")\n",
        "        return None, None, None\n",
        "\n",
        "# Teste\n",
        "arquivo = 'exemplo.txt'\n",
        "linhas, palavras, caracteres = cont(arquivo)\n",
        "if linhas is not None:\n",
        "    print(f\"Número de linhas: {linhas}\")\n",
        "    print(f\"Número de palavras: {palavras}\")\n",
        "    print(f\"Número de caracteres: {caracteres}\")\n",
        "\n",
        "\n",
        "\n",
        "\n",
        "\n"
      ],
      "metadata": {
        "colab": {
          "base_uri": "https://localhost:8080/"
        },
        "id": "zlskdewtRICR",
        "outputId": "8e3d2169-a18d-490c-8222-f088df74be02"
      },
      "execution_count": 28,
      "outputs": [
        {
          "output_type": "stream",
          "name": "stdout",
          "text": [
            "Número de linhas: 1\n",
            "Número de palavras: 8\n",
            "Número de caracteres: 42\n"
          ]
        }
      ]
    }
  ]
}