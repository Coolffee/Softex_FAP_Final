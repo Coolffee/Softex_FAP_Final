{
  "nbformat": 4,
  "nbformat_minor": 0,
  "metadata": {
    "colab": {
      "provenance": []
    },
    "kernelspec": {
      "name": "python3",
      "display_name": "Python 3"
    },
    "language_info": {
      "name": "python"
    }
  },
  "cells": [
    {
      "cell_type": "code",
      "source": [
        "def calc_imc(peso, altura):\n",
        "  imc = peso / (altura * altura)\n",
        "  return imc\n",
        "\n",
        "def definir_categoria(imc):\n",
        "  if imc < 18.5:\n",
        "    return \"Magreza\"\n",
        "  elif imc >= 18.5 and imc < 25:\n",
        "    return \"Normal\"\n",
        "  elif imc >= 25 and imc < 30:\n",
        "    return \"Sobrepeso\"\n",
        "  elif imc >= 30 and imc < 35:\n",
        "    return \"Obesidade grau I\"\n",
        "  elif imc >= 35 and imc < 40:\n",
        "    return \"Obesidade grau II\"\n",
        "  elif imc >= 40:\n",
        "    return \"Obesidade grau III\"\n",
        "  else:\n",
        "    return \"Valor inválido - Erro I\""
      ],
      "metadata": {
        "id": "zp8Q6JEROGKD"
      },
      "execution_count": 4,
      "outputs": []
    },
    {
      "cell_type": "code",
      "execution_count": null,
      "metadata": {
        "id": "qKtgSzX3oJkv"
      },
      "outputs": [],
      "source": [
        "while True:\n",
        "    altura = float(input(\"Insira sua altura (metros): \"))\n",
        "    if altura < 0.6 or altura > 2.5:\n",
        "        print(\"Valor inválido. Digite um valor entre 0.6 metros e 2.5 metros.\")\n",
        "    else:\n",
        "        break\n",
        "\n",
        "while True:\n",
        "    peso = float(input(\"Insira seu peso (kg): \"))\n",
        "    if peso < 15 or peso > 250:\n",
        "        print(\"Valor inválido. Digite um peso entre 15kg e 250kg.\")\n",
        "    else:\n",
        "        break"
      ]
    },
    {
      "cell_type": "code",
      "source": [
        "imc = calc_imc(peso, altura)\n",
        "categoria = definir_categoria(imc)\n",
        "\n",
        "print(\"Seu IMC é:\", imc)\n",
        "print(\"Sua categoria de peso é:\", categoria)"
      ],
      "metadata": {
        "id": "xMb04K1bOiv3"
      },
      "execution_count": null,
      "outputs": []
    }
  ]
}