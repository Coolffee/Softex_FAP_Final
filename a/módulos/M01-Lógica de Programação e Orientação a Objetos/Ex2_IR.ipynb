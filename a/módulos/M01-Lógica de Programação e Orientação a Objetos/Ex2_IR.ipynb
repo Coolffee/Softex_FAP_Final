{
  "nbformat": 4,
  "nbformat_minor": 0,
  "metadata": {
    "colab": {
      "provenance": []
    },
    "kernelspec": {
      "name": "python3",
      "display_name": "Python 3"
    },
    "language_info": {
      "name": "python"
    }
  },
  "cells": [
    {
      "cell_type": "code",
      "execution_count": 1,
      "metadata": {
        "id": "QXdRGoIDPjjL"
      },
      "outputs": [],
      "source": [
        "def calc_salario(salario):\n",
        "    imposto = 0\n",
        "    imposto = float()\n",
        "    if salario >= 2259.21 and salario <= 2826.65:\n",
        "        imposto = (salario * 0.075) - 169.44\n",
        "    elif salario >= 2826.66 and salario <= 3751.05:\n",
        "        imposto = (salario * 0.15) - 381.44\n",
        "    elif salario >= 3751.06 and salario <= 4664.68:\n",
        "        imposto = (salario * 0.225) - 662.77\n",
        "    elif salario > 4664.68:\n",
        "        imposto = (salario * 0.275) - 896.00\n",
        "    return imposto"
      ]
    },
    {
      "cell_type": "code",
      "source": [
        "print(\"Vamos calcular o seu IR!\")\n",
        "salario = float(input(\"Digite seu salário (separe por .): \"))\n",
        "calc_salario(salario)\n",
        "\n",
        "if calc_salario(salario) == 0:\n",
        "    print(\"Você não precisar pagar nenhum imposto esse ano.\")\n",
        "else:\n",
        "    print(f\"O total a pagar do seu imposto de renda é de R${calc_salario(salario):.2f}\")"
      ],
      "metadata": {
        "colab": {
          "base_uri": "https://localhost:8080/"
        },
        "id": "zeaesYdTPoSA",
        "outputId": "570577c5-de15-4fa6-b685-cb1a76f141ef"
      },
      "execution_count": 5,
      "outputs": [
        {
          "output_type": "stream",
          "name": "stdout",
          "text": [
            "Vamos calcular o seu IR!\n",
            "Digite seu salário (separe por .): 5000\n",
            "O total a pagar do seu imposto de renda é de R$479.00\n"
          ]
        }
      ]
    }
  ]
}